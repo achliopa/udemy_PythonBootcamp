{
 "cells": [
  {
   "cell_type": "markdown",
   "metadata": {},
   "source": [
    "# Widget List\n",
    "\n",
    "This lecture will serve as a reference for widgets, providing a list of the GUI widgets available!"
   ]
  },
  {
   "cell_type": "markdown",
   "metadata": {},
   "source": [
    "## Complete list"
   ]
  },
  {
   "cell_type": "markdown",
   "metadata": {
    "slideshow": {
     "slide_type": "slide"
    }
   },
   "source": [
    "For a complete list of the GUI widgets available to you, you can list the registered widget types. `Widget` is the base class."
   ]
  },
  {
   "cell_type": "code",
   "execution_count": 2,
   "metadata": {},
   "outputs": [
    {
     "name": "stdout",
     "output_type": "stream",
     "text": [
      "(('@jupyter-widgets/base', '1.0.0', 'LayoutModel', '@jupyter-widgets/base', '1.0.0', 'LayoutView'), <class 'ipywidgets.widgets.widget_layout.Layout'>)\n",
      "(('@jupyter-widgets/controls', '1.0.0', 'AccordionModel', '@jupyter-widgets/controls', '1.0.0', 'AccordionView'), <class 'ipywidgets.widgets.widget_selectioncontainer.Accordion'>)\n",
      "(('@jupyter-widgets/controls', '1.0.0', 'BoundedFloatTextModel', '@jupyter-widgets/controls', '1.0.0', 'FloatTextView'), <class 'ipywidgets.widgets.widget_float.BoundedFloatText'>)\n",
      "(('@jupyter-widgets/controls', '1.0.0', 'BoundedIntTextModel', '@jupyter-widgets/controls', '1.0.0', 'IntTextView'), <class 'ipywidgets.widgets.widget_int.BoundedIntText'>)\n",
      "(('@jupyter-widgets/controls', '1.0.0', 'BoxModel', '@jupyter-widgets/controls', '1.0.0', 'BoxView'), <class 'ipywidgets.widgets.widget_box.Box'>)\n",
      "(('@jupyter-widgets/controls', '1.0.0', 'ButtonModel', '@jupyter-widgets/controls', '1.0.0', 'ButtonView'), <class 'ipywidgets.widgets.widget_button.Button'>)\n",
      "(('@jupyter-widgets/controls', '1.0.0', 'ButtonStyleModel', '@jupyter-widgets/base', '1.0.0', 'StyleView'), <class 'ipywidgets.widgets.widget_button.ButtonStyle'>)\n",
      "(('@jupyter-widgets/controls', '1.0.0', 'CheckboxModel', '@jupyter-widgets/controls', '1.0.0', 'CheckboxView'), <class 'ipywidgets.widgets.widget_bool.Checkbox'>)\n",
      "(('@jupyter-widgets/controls', '1.0.0', 'ColorPickerModel', '@jupyter-widgets/controls', '1.0.0', 'ColorPickerView'), <class 'ipywidgets.widgets.widget_color.ColorPicker'>)\n",
      "(('@jupyter-widgets/controls', '1.0.0', 'ControllerAxisModel', '@jupyter-widgets/controls', '1.0.0', 'ControllerAxisView'), <class 'ipywidgets.widgets.widget_controller.Axis'>)\n",
      "(('@jupyter-widgets/controls', '1.0.0', 'ControllerButtonModel', '@jupyter-widgets/controls', '1.0.0', 'ControllerButtonView'), <class 'ipywidgets.widgets.widget_controller.Button'>)\n",
      "(('@jupyter-widgets/controls', '1.0.0', 'ControllerModel', '@jupyter-widgets/controls', '1.0.0', 'ControllerView'), <class 'ipywidgets.widgets.widget_controller.Controller'>)\n",
      "(('@jupyter-widgets/controls', '1.0.0', 'DatePickerModel', '@jupyter-widgets/controls', '1.0.0', 'DatePickerView'), <class 'ipywidgets.widgets.widget_date.DatePicker'>)\n",
      "(('@jupyter-widgets/controls', '1.0.0', 'DescriptionStyleModel', '@jupyter-widgets/base', '1.0.0', 'StyleView'), <class 'ipywidgets.widgets.widget_description.DescriptionStyle'>)\n",
      "(('@jupyter-widgets/controls', '1.0.0', 'DirectionalLinkModel', '@jupyter-widgets/controls', '1.0.0', None), <class 'ipywidgets.widgets.widget_link.DirectionalLink'>)\n",
      "(('@jupyter-widgets/controls', '1.0.0', 'DropdownModel', '@jupyter-widgets/controls', '1.0.0', 'DropdownView'), <class 'ipywidgets.widgets.widget_selection.Dropdown'>)\n",
      "(('@jupyter-widgets/controls', '1.0.0', 'FloatProgressModel', '@jupyter-widgets/controls', '1.0.0', 'ProgressView'), <class 'ipywidgets.widgets.widget_float.FloatProgress'>)\n",
      "(('@jupyter-widgets/controls', '1.0.0', 'FloatRangeSliderModel', '@jupyter-widgets/controls', '1.0.0', 'FloatRangeSliderView'), <class 'ipywidgets.widgets.widget_float.FloatRangeSlider'>)\n",
      "(('@jupyter-widgets/controls', '1.0.0', 'FloatSliderModel', '@jupyter-widgets/controls', '1.0.0', 'FloatSliderView'), <class 'ipywidgets.widgets.widget_float.FloatSlider'>)\n",
      "(('@jupyter-widgets/controls', '1.0.0', 'FloatTextModel', '@jupyter-widgets/controls', '1.0.0', 'FloatTextView'), <class 'ipywidgets.widgets.widget_float.FloatText'>)\n",
      "(('@jupyter-widgets/controls', '1.0.0', 'HBoxModel', '@jupyter-widgets/controls', '1.0.0', 'HBoxView'), <class 'ipywidgets.widgets.widget_box.HBox'>)\n",
      "(('@jupyter-widgets/controls', '1.0.0', 'HTMLMathModel', '@jupyter-widgets/controls', '1.0.0', 'HTMLMathView'), <class 'ipywidgets.widgets.widget_string.HTMLMath'>)\n",
      "(('@jupyter-widgets/controls', '1.0.0', 'HTMLModel', '@jupyter-widgets/controls', '1.0.0', 'HTMLView'), <class 'ipywidgets.widgets.widget_string.HTML'>)\n",
      "(('@jupyter-widgets/controls', '1.0.0', 'ImageModel', '@jupyter-widgets/controls', '1.0.0', 'ImageView'), <class 'ipywidgets.widgets.widget_image.Image'>)\n",
      "(('@jupyter-widgets/controls', '1.0.0', 'IntProgressModel', '@jupyter-widgets/controls', '1.0.0', 'ProgressView'), <class 'ipywidgets.widgets.widget_int.IntProgress'>)\n",
      "(('@jupyter-widgets/controls', '1.0.0', 'IntRangeSliderModel', '@jupyter-widgets/controls', '1.0.0', 'IntRangeSliderView'), <class 'ipywidgets.widgets.widget_int.IntRangeSlider'>)\n",
      "(('@jupyter-widgets/controls', '1.0.0', 'IntSliderModel', '@jupyter-widgets/controls', '1.0.0', 'IntSliderView'), <class 'ipywidgets.widgets.widget_int.IntSlider'>)\n",
      "(('@jupyter-widgets/controls', '1.0.0', 'IntTextModel', '@jupyter-widgets/controls', '1.0.0', 'IntTextView'), <class 'ipywidgets.widgets.widget_int.IntText'>)\n",
      "(('@jupyter-widgets/controls', '1.0.0', 'LabelModel', '@jupyter-widgets/controls', '1.0.0', 'LabelView'), <class 'ipywidgets.widgets.widget_string.Label'>)\n",
      "(('@jupyter-widgets/controls', '1.0.0', 'LinkModel', '@jupyter-widgets/controls', '1.0.0', None), <class 'ipywidgets.widgets.widget_link.Link'>)\n",
      "(('@jupyter-widgets/controls', '1.0.0', 'PasswordModel', '@jupyter-widgets/controls', '1.0.0', 'PasswordView'), <class 'ipywidgets.widgets.widget_string.Password'>)\n",
      "(('@jupyter-widgets/controls', '1.0.0', 'PlayModel', '@jupyter-widgets/controls', '1.0.0', 'PlayView'), <class 'ipywidgets.widgets.widget_int.Play'>)\n",
      "(('@jupyter-widgets/controls', '1.0.0', 'ProgressStyleModel', '@jupyter-widgets/base', '1.0.0', 'StyleView'), <class 'ipywidgets.widgets.widget_int.ProgressStyle'>)\n",
      "(('@jupyter-widgets/controls', '1.0.0', 'RadioButtonsModel', '@jupyter-widgets/controls', '1.0.0', 'RadioButtonsView'), <class 'ipywidgets.widgets.widget_selection.RadioButtons'>)\n",
      "(('@jupyter-widgets/controls', '1.0.0', 'SelectModel', '@jupyter-widgets/controls', '1.0.0', 'SelectView'), <class 'ipywidgets.widgets.widget_selection.Select'>)\n",
      "(('@jupyter-widgets/controls', '1.0.0', 'SelectMultipleModel', '@jupyter-widgets/controls', '1.0.0', 'SelectMultipleView'), <class 'ipywidgets.widgets.widget_selection.SelectMultiple'>)\n",
      "(('@jupyter-widgets/controls', '1.0.0', 'SelectionRangeSliderModel', '@jupyter-widgets/controls', '1.0.0', 'SelectionRangeSliderView'), <class 'ipywidgets.widgets.widget_selection.SelectionRangeSlider'>)\n",
      "(('@jupyter-widgets/controls', '1.0.0', 'SelectionSliderModel', '@jupyter-widgets/controls', '1.0.0', 'SelectionSliderView'), <class 'ipywidgets.widgets.widget_selection.SelectionSlider'>)\n",
      "(('@jupyter-widgets/controls', '1.0.0', 'SliderStyleModel', '@jupyter-widgets/base', '1.0.0', 'StyleView'), <class 'ipywidgets.widgets.widget_int.SliderStyle'>)\n",
      "(('@jupyter-widgets/controls', '1.0.0', 'TabModel', '@jupyter-widgets/controls', '1.0.0', 'TabView'), <class 'ipywidgets.widgets.widget_selectioncontainer.Tab'>)\n",
      "(('@jupyter-widgets/controls', '1.0.0', 'TextModel', '@jupyter-widgets/controls', '1.0.0', 'TextView'), <class 'ipywidgets.widgets.widget_string.Text'>)\n",
      "(('@jupyter-widgets/controls', '1.0.0', 'TextareaModel', '@jupyter-widgets/controls', '1.0.0', 'TextareaView'), <class 'ipywidgets.widgets.widget_string.Textarea'>)\n",
      "(('@jupyter-widgets/controls', '1.0.0', 'ToggleButtonModel', '@jupyter-widgets/controls', '1.0.0', 'ToggleButtonView'), <class 'ipywidgets.widgets.widget_bool.ToggleButton'>)\n",
      "(('@jupyter-widgets/controls', '1.0.0', 'ToggleButtonsModel', '@jupyter-widgets/controls', '1.0.0', 'ToggleButtonsView'), <class 'ipywidgets.widgets.widget_selection.ToggleButtons'>)\n",
      "(('@jupyter-widgets/controls', '1.0.0', 'ToggleButtonsStyleModel', '@jupyter-widgets/base', '1.0.0', 'StyleView'), <class 'ipywidgets.widgets.widget_selection.ToggleButtonsStyle'>)\n",
      "(('@jupyter-widgets/controls', '1.0.0', 'VBoxModel', '@jupyter-widgets/controls', '1.0.0', 'VBoxView'), <class 'ipywidgets.widgets.widget_box.VBox'>)\n",
      "(('@jupyter-widgets/controls', '1.0.0', 'ValidModel', '@jupyter-widgets/controls', '1.0.0', 'ValidView'), <class 'ipywidgets.widgets.widget_bool.Valid'>)\n",
      "(('@jupyter-widgets/output', '1.0.0', 'OutputModel', '@jupyter-widgets/output', '1.0.0', 'OutputView'), <class 'ipywidgets.widgets.widget_output.Output'>)\n"
     ]
    }
   ],
   "source": [
    "import ipywidgets as widgets\n",
    "\n",
    "# Show all available widgets!\n",
    "for item in widgets.Widget.widget_types.items():\n",
    "    print(item[0][2][:-5])"
   ]
  },
  {
   "cell_type": "markdown",
   "metadata": {
    "slideshow": {
     "slide_type": "slide"
    }
   },
   "source": [
    "## Numeric widgets"
   ]
  },
  {
   "cell_type": "markdown",
   "metadata": {},
   "source": [
    "There are 10 widgets distributed with IPython that are designed to display numeric values. Widgets exist for displaying integers and floats, both bounded and unbounded.  The integer widgets share a similar naming scheme to their floating point counterparts. By replacing `Float` with `Int` in the widget name, you can find the Integer equivalent."
   ]
  },
  {
   "cell_type": "markdown",
   "metadata": {
    "slideshow": {
     "slide_type": "slide"
    }
   },
   "source": [
    "### IntSlider"
   ]
  },
  {
   "cell_type": "code",
   "execution_count": null,
   "metadata": {
    "collapsed": true
   },
   "outputs": [],
   "source": [
    "widgets.IntSlider(\n",
    "    value=7,\n",
    "    min=0,\n",
    "    max=10,\n",
    "    step=1,\n",
    "    description='Test:',\n",
    "    disabled=False,\n",
    "    continuous_update=False,\n",
    "    orientation='horizontal',\n",
    "    readout=True,\n",
    "    readout_format='d'\n",
    ")"
   ]
  },
  {
   "cell_type": "markdown",
   "metadata": {
    "slideshow": {
     "slide_type": "slide"
    }
   },
   "source": [
    "### FloatSlider"
   ]
  },
  {
   "cell_type": "code",
   "execution_count": null,
   "metadata": {
    "collapsed": true
   },
   "outputs": [],
   "source": [
    "widgets.FloatSlider(\n",
    "    value=7.5,\n",
    "    min=0,\n",
    "    max=10.0,\n",
    "    step=0.1,\n",
    "    description='Test:',\n",
    "    disabled=False,\n",
    "    continuous_update=False,\n",
    "    orientation='horizontal',\n",
    "    readout=True,\n",
    "    readout_format='.1f',\n",
    ")"
   ]
  },
  {
   "cell_type": "markdown",
   "metadata": {},
   "source": [
    "Sliders can also be **displayed vertically**."
   ]
  },
  {
   "cell_type": "code",
   "execution_count": null,
   "metadata": {
    "collapsed": true
   },
   "outputs": [],
   "source": [
    "widgets.FloatSlider(\n",
    "    value=7.5,\n",
    "    min=0,\n",
    "    max=10.0,\n",
    "    step=0.1,\n",
    "    description='Test:',\n",
    "    disabled=False,\n",
    "    continuous_update=False,\n",
    "    orientation='vertical',\n",
    "    readout=True,\n",
    "    readout_format='.1f',\n",
    ")"
   ]
  },
  {
   "cell_type": "markdown",
   "metadata": {},
   "source": [
    "### IntRangeSlider"
   ]
  },
  {
   "cell_type": "code",
   "execution_count": null,
   "metadata": {
    "collapsed": true
   },
   "outputs": [],
   "source": [
    "widgets.IntRangeSlider(\n",
    "    value=[5, 7],\n",
    "    min=0,\n",
    "    max=10,\n",
    "    step=1,\n",
    "    description='Test:',\n",
    "    disabled=False,\n",
    "    continuous_update=False,\n",
    "    orientation='horizontal',\n",
    "    readout=True,\n",
    "    readout_format='d',\n",
    ")"
   ]
  },
  {
   "cell_type": "markdown",
   "metadata": {},
   "source": [
    "### FloatRangeSlider"
   ]
  },
  {
   "cell_type": "code",
   "execution_count": null,
   "metadata": {
    "collapsed": true
   },
   "outputs": [],
   "source": [
    "widgets.FloatRangeSlider(\n",
    "    value=[5, 7.5],\n",
    "    min=0,\n",
    "    max=10.0,\n",
    "    step=0.1,\n",
    "    description='Test:',\n",
    "    disabled=False,\n",
    "    continuous_update=False,\n",
    "    orientation='horizontal',\n",
    "    readout=True,\n",
    "    readout_format='.1f',\n",
    ")"
   ]
  },
  {
   "cell_type": "markdown",
   "metadata": {},
   "source": [
    "### IntProgress"
   ]
  },
  {
   "cell_type": "code",
   "execution_count": null,
   "metadata": {
    "collapsed": true
   },
   "outputs": [],
   "source": [
    "widgets.IntProgress(\n",
    "    value=7,\n",
    "    min=0,\n",
    "    max=10,\n",
    "    step=1,\n",
    "    description='Loading:',\n",
    "    bar_style='', # 'success', 'info', 'warning', 'danger' or ''\n",
    "    orientation='horizontal'\n",
    ")"
   ]
  },
  {
   "cell_type": "markdown",
   "metadata": {
    "slideshow": {
     "slide_type": "slide"
    }
   },
   "source": [
    "### FloatProgress"
   ]
  },
  {
   "cell_type": "code",
   "execution_count": null,
   "metadata": {
    "collapsed": true
   },
   "outputs": [],
   "source": [
    "widgets.FloatProgress(\n",
    "    value=7.5,\n",
    "    min=0,\n",
    "    max=10.0,\n",
    "    step=0.1,\n",
    "    description='Loading:',\n",
    "    bar_style='info',\n",
    "    orientation='horizontal'\n",
    ")"
   ]
  },
  {
   "cell_type": "markdown",
   "metadata": {},
   "source": [
    "The numerical text boxes that impose some limit on the data (range, integer-only) impose that restriction when the user presses enter."
   ]
  },
  {
   "cell_type": "markdown",
   "metadata": {
    "slideshow": {
     "slide_type": "slide"
    }
   },
   "source": [
    "### BoundedIntText"
   ]
  },
  {
   "cell_type": "code",
   "execution_count": null,
   "metadata": {
    "collapsed": true
   },
   "outputs": [],
   "source": [
    "widgets.BoundedIntText(\n",
    "    value=7,\n",
    "    min=0,\n",
    "    max=10,\n",
    "    step=1,\n",
    "    description='Text:',\n",
    "    disabled=False\n",
    ")"
   ]
  },
  {
   "cell_type": "markdown",
   "metadata": {
    "slideshow": {
     "slide_type": "slide"
    }
   },
   "source": [
    "### BoundedFloatText"
   ]
  },
  {
   "cell_type": "code",
   "execution_count": null,
   "metadata": {
    "collapsed": true
   },
   "outputs": [],
   "source": [
    "widgets.BoundedFloatText(\n",
    "    value=7.5,\n",
    "    min=0,\n",
    "    max=10.0,\n",
    "    step=0.1,\n",
    "    description='Text:',\n",
    "    disabled=False\n",
    ")"
   ]
  },
  {
   "cell_type": "markdown",
   "metadata": {},
   "source": [
    "### IntText"
   ]
  },
  {
   "cell_type": "code",
   "execution_count": null,
   "metadata": {
    "collapsed": true
   },
   "outputs": [],
   "source": [
    "widgets.IntText(\n",
    "    value=7,\n",
    "    description='Any:',\n",
    "    disabled=False\n",
    ")"
   ]
  },
  {
   "cell_type": "markdown",
   "metadata": {
    "slideshow": {
     "slide_type": "slide"
    }
   },
   "source": [
    "### FloatText"
   ]
  },
  {
   "cell_type": "code",
   "execution_count": null,
   "metadata": {
    "collapsed": true
   },
   "outputs": [],
   "source": [
    "widgets.FloatText(\n",
    "    value=7.5,\n",
    "    description='Any:',\n",
    "    disabled=False\n",
    ")"
   ]
  },
  {
   "cell_type": "markdown",
   "metadata": {
    "slideshow": {
     "slide_type": "slide"
    }
   },
   "source": [
    "## Boolean widgets"
   ]
  },
  {
   "cell_type": "markdown",
   "metadata": {},
   "source": [
    "There are three widgets that are designed to display a boolean value."
   ]
  },
  {
   "cell_type": "markdown",
   "metadata": {},
   "source": [
    "### ToggleButton"
   ]
  },
  {
   "cell_type": "code",
   "execution_count": null,
   "metadata": {
    "collapsed": true
   },
   "outputs": [],
   "source": [
    "widgets.ToggleButton(\n",
    "    value=False,\n",
    "    description='Click me',\n",
    "    disabled=False,\n",
    "    button_style='', # 'success', 'info', 'warning', 'danger' or ''\n",
    "    tooltip='Description',\n",
    "    icon='check'\n",
    ")"
   ]
  },
  {
   "cell_type": "markdown",
   "metadata": {
    "slideshow": {
     "slide_type": "slide"
    }
   },
   "source": [
    "### Checkbox"
   ]
  },
  {
   "cell_type": "code",
   "execution_count": null,
   "metadata": {
    "collapsed": true
   },
   "outputs": [],
   "source": [
    "widgets.Checkbox(\n",
    "    value=False,\n",
    "    description='Check me',\n",
    "    disabled=False\n",
    ")"
   ]
  },
  {
   "cell_type": "markdown",
   "metadata": {},
   "source": [
    "### Valid\n",
    "\n",
    "The valid widget provides a read-only indicator."
   ]
  },
  {
   "cell_type": "code",
   "execution_count": null,
   "metadata": {
    "collapsed": true
   },
   "outputs": [],
   "source": [
    "widgets.Valid(\n",
    "    value=False,\n",
    "    description='Valid!',\n",
    ")"
   ]
  },
  {
   "cell_type": "markdown",
   "metadata": {
    "slideshow": {
     "slide_type": "slide"
    }
   },
   "source": [
    "## Selection widgets"
   ]
  },
  {
   "cell_type": "markdown",
   "metadata": {},
   "source": [
    "There are several widgets that can be used to display single selection lists, and two that can be used to select multiple values. All inherit from the same base class. You can specify the **enumeration of selectable options by passing a list** (options are either (label, value) pairs, or simply values for which the labels are derived by calling `str`). You can **also specify the enumeration as a dictionary**, in which case the **keys will be used as the item displayed** in the list and the corresponding **value will be used** when an item is selected (in this case, since dictionaries are unordered, the displayed order of items in the widget is unspecified)."
   ]
  },
  {
   "cell_type": "markdown",
   "metadata": {
    "slideshow": {
     "slide_type": "slide"
    }
   },
   "source": [
    "### Dropdown"
   ]
  },
  {
   "cell_type": "code",
   "execution_count": null,
   "metadata": {
    "collapsed": true
   },
   "outputs": [],
   "source": [
    "widgets.Dropdown(\n",
    "    options=['1', '2', '3'],\n",
    "    value='2',\n",
    "    description='Number:',\n",
    "    disabled=False,\n",
    ")"
   ]
  },
  {
   "cell_type": "markdown",
   "metadata": {},
   "source": [
    "The following is also valid:"
   ]
  },
  {
   "cell_type": "code",
   "execution_count": null,
   "metadata": {
    "collapsed": true
   },
   "outputs": [],
   "source": [
    "widgets.Dropdown(\n",
    "    options={'One': 1, 'Two': 2, 'Three': 3},\n",
    "    value=2,\n",
    "    description='Number:',\n",
    ")"
   ]
  },
  {
   "cell_type": "markdown",
   "metadata": {
    "slideshow": {
     "slide_type": "slide"
    }
   },
   "source": [
    "### RadioButtons"
   ]
  },
  {
   "cell_type": "code",
   "execution_count": null,
   "metadata": {
    "collapsed": true
   },
   "outputs": [],
   "source": [
    "widgets.RadioButtons(\n",
    "    options=['pepperoni', 'pineapple', 'anchovies'],\n",
    "    # value='pineapple',\n",
    "    description='Pizza topping:',\n",
    "    disabled=False\n",
    ")"
   ]
  },
  {
   "cell_type": "markdown",
   "metadata": {
    "slideshow": {
     "slide_type": "slide"
    }
   },
   "source": [
    "### Select"
   ]
  },
  {
   "cell_type": "code",
   "execution_count": null,
   "metadata": {
    "collapsed": true
   },
   "outputs": [],
   "source": [
    "widgets.Select(\n",
    "    options=['Linux', 'Windows', 'OSX'],\n",
    "    value='OSX',\n",
    "    # rows=10,\n",
    "    description='OS:',\n",
    "    disabled=False\n",
    ")"
   ]
  },
  {
   "cell_type": "markdown",
   "metadata": {},
   "source": [
    "### SelectionSlider"
   ]
  },
  {
   "cell_type": "code",
   "execution_count": null,
   "metadata": {
    "collapsed": true
   },
   "outputs": [],
   "source": [
    "widgets.SelectionSlider(\n",
    "    options=['scrambled', 'sunny side up', 'poached', 'over easy'],\n",
    "    value='sunny side up',\n",
    "    description='I like my eggs ...',\n",
    "    disabled=False,\n",
    "    continuous_update=False,\n",
    "    orientation='horizontal',\n",
    "    readout=True\n",
    ")"
   ]
  },
  {
   "cell_type": "markdown",
   "metadata": {},
   "source": [
    "### SelectionRangeSlider\n",
    "The value, index, and label keys are 2-tuples of the min and max values selected. The options must be nonempty."
   ]
  },
  {
   "cell_type": "code",
   "execution_count": null,
   "metadata": {
    "collapsed": true
   },
   "outputs": [],
   "source": [
    "import datetime\n",
    "dates = [datetime.date(2015,i,1) for i in range(1,13)]\n",
    "options = [(i.strftime('%b'), i) for i in dates]\n",
    "widgets.SelectionRangeSlider(\n",
    "    options=options,\n",
    "    index=(0,11),\n",
    "    description='Months (2015)',\n",
    "    disabled=False\n",
    ")"
   ]
  },
  {
   "cell_type": "markdown",
   "metadata": {
    "slideshow": {
     "slide_type": "slide"
    }
   },
   "source": [
    "### ToggleButtons"
   ]
  },
  {
   "cell_type": "code",
   "execution_count": null,
   "metadata": {
    "collapsed": true
   },
   "outputs": [],
   "source": [
    "widgets.ToggleButtons(\n",
    "    options=['Slow', 'Regular', 'Fast'],\n",
    "    description='Speed:',\n",
    "    disabled=False,\n",
    "    button_style='', # 'success', 'info', 'warning', 'danger' or ''\n",
    "    tooltips=['Description of slow', 'Description of regular', 'Description of fast'],\n",
    "    # icons=['check'] * 3\n",
    ")"
   ]
  },
  {
   "cell_type": "markdown",
   "metadata": {},
   "source": [
    "### SelectMultiple\n",
    "Multiple values can be selected with <kbd>shift</kbd> and/or <kbd>ctrl</kbd> (or <kbd>command</kbd>) pressed and mouse clicks or arrow keys."
   ]
  },
  {
   "cell_type": "code",
   "execution_count": null,
   "metadata": {
    "collapsed": true
   },
   "outputs": [],
   "source": [
    "widgets.SelectMultiple(\n",
    "    options=['Apples', 'Oranges', 'Pears'],\n",
    "    value=['Oranges'],\n",
    "    # rows=10,\n",
    "    description='Fruits',\n",
    "    disabled=False\n",
    ")"
   ]
  },
  {
   "cell_type": "markdown",
   "metadata": {
    "slideshow": {
     "slide_type": "slide"
    }
   },
   "source": [
    "## String widgets\n",
    "There are several widgets that can be used to display a string value. The `Text` and `Textarea` widgets accept input. The `HTML` and `HTMLMath` widgets display a string as HTML (`HTMLMath` also renders math). The `Label` widget can be used to construct a custom control label."
   ]
  },
  {
   "cell_type": "markdown",
   "metadata": {
    "slideshow": {
     "slide_type": "slide"
    }
   },
   "source": [
    "### Text"
   ]
  },
  {
   "cell_type": "code",
   "execution_count": null,
   "metadata": {
    "collapsed": true
   },
   "outputs": [],
   "source": [
    "widgets.Text(\n",
    "    value='Hello World',\n",
    "    placeholder='Type something',\n",
    "    description='String:',\n",
    "    disabled=False\n",
    ")"
   ]
  },
  {
   "cell_type": "markdown",
   "metadata": {},
   "source": [
    "### Textarea"
   ]
  },
  {
   "cell_type": "code",
   "execution_count": null,
   "metadata": {
    "collapsed": true
   },
   "outputs": [],
   "source": [
    "widgets.Textarea(\n",
    "    value='Hello World',\n",
    "    placeholder='Type something',\n",
    "    description='String:',\n",
    "    disabled=False\n",
    ")"
   ]
  },
  {
   "cell_type": "markdown",
   "metadata": {
    "slideshow": {
     "slide_type": "slide"
    }
   },
   "source": [
    "### Label\n",
    "The `Label` widget is useful if you need to build a custom description next to a control using similar styling to the built-in control descriptions."
   ]
  },
  {
   "cell_type": "code",
   "execution_count": null,
   "metadata": {
    "collapsed": true
   },
   "outputs": [],
   "source": [
    "widgets.HBox([widgets.Label(value=\"The $m$ in $E=mc^2$:\"), widgets.FloatSlider()])\n"
   ]
  },
  {
   "cell_type": "markdown",
   "metadata": {},
   "source": [
    "### HTML"
   ]
  },
  {
   "cell_type": "code",
   "execution_count": null,
   "metadata": {
    "collapsed": true
   },
   "outputs": [],
   "source": [
    "widgets.HTML(\n",
    "    value=\"Hello <b>World</b>\",\n",
    "    placeholder='Some HTML',\n",
    "    description='Some HTML',\n",
    ")"
   ]
  },
  {
   "cell_type": "markdown",
   "metadata": {},
   "source": [
    "### HTML Math"
   ]
  },
  {
   "cell_type": "code",
   "execution_count": null,
   "metadata": {
    "collapsed": true
   },
   "outputs": [],
   "source": [
    "widgets.HTMLMath(\n",
    "    value=r\"Some math and <i>HTML</i>: \\(x^2\\) and $$\\frac{x+1}{x-1}$$\",\n",
    "    placeholder='Some HTML',\n",
    "    description='Some HTML',\n",
    ")"
   ]
  },
  {
   "cell_type": "markdown",
   "metadata": {},
   "source": [
    "### Image"
   ]
  },
  {
   "cell_type": "code",
   "execution_count": null,
   "metadata": {
    "collapsed": true
   },
   "outputs": [],
   "source": [
    "file = open(\"images/WidgetArch.png\", \"rb\")\n",
    "image = file.read()\n",
    "widgets.Image(\n",
    "    value=image,\n",
    "    format='png',\n",
    "    width=300,\n",
    "    height=400,\n",
    ")"
   ]
  },
  {
   "cell_type": "markdown",
   "metadata": {
    "slideshow": {
     "slide_type": "slide"
    }
   },
   "source": [
    "## Button"
   ]
  },
  {
   "cell_type": "code",
   "execution_count": null,
   "metadata": {
    "collapsed": true
   },
   "outputs": [],
   "source": [
    "widgets.Button(\n",
    "    description='Click me',\n",
    "    disabled=False,\n",
    "    button_style='', # 'success', 'info', 'warning', 'danger' or ''\n",
    "    tooltip='Click me',\n",
    "    icon='check'\n",
    ")"
   ]
  },
  {
   "cell_type": "markdown",
   "metadata": {},
   "source": [
    "# Conclusion\n",
    "\n",
    "Even more widgets are described in the notebook **Widget List - Advanced**. Use these as a future reference for yourself!"
   ]
  }
 ],
 "metadata": {
  "kernelspec": {
   "display_name": "Python 3",
   "language": "python",
   "name": "python3"
  },
  "language_info": {
   "codemirror_mode": {
    "name": "ipython",
    "version": 3
   },
   "file_extension": ".py",
   "mimetype": "text/x-python",
   "name": "python",
   "nbconvert_exporter": "python",
   "pygments_lexer": "ipython3",
   "version": "3.6.2"
  }
 },
 "nbformat": 4,
 "nbformat_minor": 1
}
