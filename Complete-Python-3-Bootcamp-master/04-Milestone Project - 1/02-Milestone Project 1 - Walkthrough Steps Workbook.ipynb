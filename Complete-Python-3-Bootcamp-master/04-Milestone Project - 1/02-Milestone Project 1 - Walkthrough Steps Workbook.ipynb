{
 "cells": [
  {
   "cell_type": "markdown",
   "metadata": {},
   "source": [
    "# Milestone Project 1: Walkthrough Steps Workbook\n",
    "\n",
    "Below is a set of steps for you to follow to try to create the Tic Tac Toe Milestone Project game!"
   ]
  },
  {
   "cell_type": "markdown",
   "metadata": {},
   "source": [
    "#### Some suggested tools before you get started:\n",
    "To take input from a user:\n",
    "\n",
    "    player1 = input(\"Please pick a marker 'X' or 'O'\")\n",
    "    \n",
    "Note that input() takes in a string. If you need an integer value, use\n",
    "\n",
    "    position = int(input('Please enter a number'))\n",
    "    \n",
    "<br>To clear the screen between moves:\n",
    "\n",
    "    from IPython.display import clear_output\n",
    "    clear_output()\n",
    "    \n",
    "Note that clear_output() will only work in jupyter. To clear the screen in other IDEs, consider:\n",
    "\n",
    "    print('\\n'*100)\n",
    "    \n",
    "This scrolls the previous board up out of view. Now on to the program!"
   ]
  },
  {
   "cell_type": "markdown",
   "metadata": {},
   "source": [
    "**Step 1: Write a function that can print out a board. Set up your board as a list, where each index 1-9 corresponds with a number on a number pad, so you get a 3 by 3 board representation.**"
   ]
  },
  {
   "cell_type": "code",
   "execution_count": 4,
   "metadata": {},
   "outputs": [],
   "source": [
    "from IPython.display import clear_output\n",
    "\n",
    "def display_board(board):\n",
    "    print(f'{board[7]}|{board[8]}|{board[9]}')\n",
    "    print('-----')\n",
    "    print(f'{board[4]}|{board[5]}|{board[6]}')\n",
    "    print('-----')\n",
    "    print(f'{board[1]}|{board[2]}|{board[3]}')"
   ]
  },
  {
   "cell_type": "markdown",
   "metadata": {},
   "source": [
    "**TEST Step 1:** run your function on a test version of the board list, and make adjustments as necessary"
   ]
  },
  {
   "cell_type": "code",
   "execution_count": 5,
   "metadata": {},
   "outputs": [
    {
     "name": "stdout",
     "output_type": "stream",
     "text": [
      "X|O|X\n",
      "-----\n",
      "O|X|O\n",
      "-----\n",
      "X|O|X\n"
     ]
    }
   ],
   "source": [
    "test_board = ['#','X','O','X','O','X','O','X','O','X']\n",
    "display_board(test_board)"
   ]
  },
  {
   "cell_type": "markdown",
   "metadata": {},
   "source": [
    "**Step 2: Write a function that can take in a player input and assign their marker as 'X' or 'O'. Think about using *while* loops to continually ask until you get a correct answer.**"
   ]
  },
  {
   "cell_type": "code",
   "execution_count": 55,
   "metadata": {},
   "outputs": [],
   "source": [
    "def player_input():\n",
    "    while True:\n",
    "        player1_marker = input(\"Please pick a marker 'X' or 'O': \")\n",
    "        if player1_marker == 'X' or player1_marker == 'O':\n",
    "            return player1_marker\n",
    "            break\n",
    "        else:\n",
    "            continue"
   ]
  },
  {
   "cell_type": "markdown",
   "metadata": {},
   "source": [
    "**TEST Step 2:** run the function to make sure it returns the desired output"
   ]
  },
  {
   "cell_type": "code",
   "execution_count": 12,
   "metadata": {},
   "outputs": [
    {
     "name": "stdout",
     "output_type": "stream",
     "text": [
      "Please pick a marker 'X' or 'O': O\n"
     ]
    }
   ],
   "source": [
    "player_input()"
   ]
  },
  {
   "cell_type": "markdown",
   "metadata": {},
   "source": [
    "**Step 3: Write a function that takes in the board list object, a marker ('X' or 'O'), and a desired position (number 1-9) and assigns it to the board.**"
   ]
  },
  {
   "cell_type": "code",
   "execution_count": 14,
   "metadata": {},
   "outputs": [],
   "source": [
    "def place_marker(board, marker, position):\n",
    "        board[position] = marker"
   ]
  },
  {
   "cell_type": "markdown",
   "metadata": {},
   "source": [
    "**TEST Step 3:** run the place marker function using test parameters and display the modified board"
   ]
  },
  {
   "cell_type": "code",
   "execution_count": 15,
   "metadata": {},
   "outputs": [
    {
     "name": "stdout",
     "output_type": "stream",
     "text": [
      "X|$|X\n",
      "-----\n",
      "O|X|O\n",
      "-----\n",
      "X|O|X\n"
     ]
    }
   ],
   "source": [
    "place_marker(test_board,'$',8)\n",
    "display_board(test_board)"
   ]
  },
  {
   "cell_type": "markdown",
   "metadata": {},
   "source": [
    "**Step 4: Write a function that takes in a board and a mark (X or O) and then checks to see if that mark has won. **"
   ]
  },
  {
   "cell_type": "code",
   "execution_count": 16,
   "metadata": {},
   "outputs": [],
   "source": [
    "def win_check(board, mark):\n",
    "    return (board[1] == board[2]== board[3] == mark) or (board[4] == board[5]== board[6] == mark) or (board[7] == board[8]== board[9] == mark) or (board[1] == board[4]== board[7] == mark) or (board[2] == board[5]== board[8] == mark) or (board[3] == board[6]== board[9] == mark) or (board[1] == board[5]== board[9] == mark) or (board[3] == board[5]== board[7] == mark)\n",
    "    pass"
   ]
  },
  {
   "cell_type": "markdown",
   "metadata": {},
   "source": [
    "**TEST Step 4:** run the win_check function against our test_board - it should return True"
   ]
  },
  {
   "cell_type": "code",
   "execution_count": 17,
   "metadata": {},
   "outputs": [
    {
     "data": {
      "text/plain": [
       "True"
      ]
     },
     "execution_count": 17,
     "metadata": {},
     "output_type": "execute_result"
    }
   ],
   "source": [
    "win_check(test_board,'X')"
   ]
  },
  {
   "cell_type": "markdown",
   "metadata": {},
   "source": [
    "**Step 5: Write a function that uses the random module to randomly decide which player goes first. You may want to lookup random.randint() Return a string of which player went first.**"
   ]
  },
  {
   "cell_type": "code",
   "execution_count": 57,
   "metadata": {},
   "outputs": [],
   "source": [
    "import random\n",
    "\n",
    "def choose_first():\n",
    "    return random.randint(0,1)\n"
   ]
  },
  {
   "cell_type": "markdown",
   "metadata": {},
   "source": [
    "**Step 6: Write a function that returns a boolean indicating whether a space on the board is freely available.**"
   ]
  },
  {
   "cell_type": "code",
   "execution_count": 39,
   "metadata": {},
   "outputs": [],
   "source": [
    "def space_check(board, position):\n",
    "    return board[position] != 'X' and board[position]!='O'"
   ]
  },
  {
   "cell_type": "markdown",
   "metadata": {},
   "source": [
    "**Step 7: Write a function that checks if the board is full and returns a boolean value. True if full, False otherwise.**"
   ]
  },
  {
   "cell_type": "code",
   "execution_count": 34,
   "metadata": {},
   "outputs": [],
   "source": [
    "def full_board_check(board):\n",
    "    return len([x for x in board if x == 'X' or x == 'O']) == 9"
   ]
  },
  {
   "cell_type": "markdown",
   "metadata": {},
   "source": [
    "**Step 8: Write a function that asks for a player's next position (as a number 1-9) and then uses the function from step 6 to check if it's a free position. If it is, then return the position for later use.**"
   ]
  },
  {
   "cell_type": "code",
   "execution_count": 42,
   "metadata": {},
   "outputs": [],
   "source": [
    "def player_choice(board):\n",
    "    while True:\n",
    "        position = int(input('Please enter a number: '))\n",
    "        if position < 1 or position > 9:\n",
    "            print(\"Please use numbers 1 to 9 \")\n",
    "            continue\n",
    "        else:\n",
    "            if space_check(board, position):\n",
    "                return position\n",
    "            else:\n",
    "                print(\"Position taken - Use another number \")\n",
    "                continue"
   ]
  },
  {
   "cell_type": "markdown",
   "metadata": {},
   "source": [
    "**Step 9: Write a function that asks the player if they want to play again and returns a boolean True if they do want to play again.**"
   ]
  },
  {
   "cell_type": "code",
   "execution_count": 44,
   "metadata": {},
   "outputs": [],
   "source": [
    "def replay():\n",
    "    while True:\n",
    "        ans = input(\"Play again? (y=yes , n=no): \")\n",
    "        if(ans == 'y'):\n",
    "            return True\n",
    "        elif (ans == 'n'):\n",
    "            return False\n",
    "        else:\n",
    "            continue"
   ]
  },
  {
   "cell_type": "markdown",
   "metadata": {
    "collapsed": true
   },
   "source": [
    "**Step 10: Here comes the hard part! Use while loops and the functions you've made to run the game!**"
   ]
  },
  {
   "cell_type": "code",
   "execution_count": 66,
   "metadata": {},
   "outputs": [
    {
     "name": "stdout",
     "output_type": "stream",
     "text": [
      "Welcome to Tic Tac Toe!\n",
      "Player 1 plays first\n",
      "Please pick a marker 'X' or 'O': X\n",
      " | | \n",
      "-----\n",
      " | | \n",
      "-----\n",
      " | | \n",
      "Please enter a number: 1\n",
      " | | \n",
      "-----\n",
      " | | \n",
      "-----\n",
      "X| | \n",
      "Please enter a number: 2\n",
      " | | \n",
      "-----\n",
      " | | \n",
      "-----\n",
      "X|O| \n",
      "Please enter a number: 5\n",
      " | | \n",
      "-----\n",
      " |X| \n",
      "-----\n",
      "X|O| \n",
      "Please enter a number: 9\n",
      " | |O\n",
      "-----\n",
      " |X| \n",
      "-----\n",
      "X|O| \n",
      "Please enter a number: 6\n",
      " | |O\n",
      "-----\n",
      " |X|X\n",
      "-----\n",
      "X|O| \n",
      "Please enter a number: 8\n",
      " |O|O\n",
      "-----\n",
      " |X|X\n",
      "-----\n",
      "X|O| \n",
      "Please enter a number: 4\n",
      " |O|O\n",
      "-----\n",
      "X|X|X\n",
      "-----\n",
      "X|O| \n",
      "Player1 won!\n",
      "Play again? (y=yes , n=no): y\n",
      "Player 1 plays first\n",
      "Please pick a marker 'X' or 'O': X\n",
      " | | \n",
      "-----\n",
      " | | \n",
      "-----\n",
      " | | \n",
      "Please enter a number: 3\n",
      " | | \n",
      "-----\n",
      " | | \n",
      "-----\n",
      " | |X\n",
      "Please enter a number: 9\n",
      " | |O\n",
      "-----\n",
      " | | \n",
      "-----\n",
      " | |X\n",
      "Please enter a number: 6\n",
      " | |O\n",
      "-----\n",
      " | |X\n",
      "-----\n",
      " | |X\n",
      "Please enter a number: 8\n",
      " |O|O\n",
      "-----\n",
      " | |X\n",
      "-----\n",
      " | |X\n",
      "Please enter a number: 5\n",
      " |O|O\n",
      "-----\n",
      " |X|X\n",
      "-----\n",
      " | |X\n",
      "Please enter a number: 7\n",
      "O|O|O\n",
      "-----\n",
      " |X|X\n",
      "-----\n",
      " | |X\n",
      "Player2 won!\n",
      "Play again? (y=yes , n=no): n\n"
     ]
    }
   ],
   "source": [
    "print('Welcome to Tic Tac Toe!')\n",
    "\n",
    "while True:\n",
    "    from IPython.display import clear_output\n",
    "    test_board = [' ']*10\n",
    "    marker=[' ']*2\n",
    "    active_player = choose_first()\n",
    "    print(f'Player {active_player+1} plays first')\n",
    "    marker[active_player] = player_input()\n",
    "    if (marker[active_player] == 'X'):\n",
    "        marker[int(not(active_player))] = 'O'\n",
    "    else:\n",
    "        marker[int(not(active_player))] = 'X'\n",
    "    display_board(test_board)\n",
    "    game_on = True\n",
    "    current_player = active_player\n",
    "    while game_on:\n",
    "        if win_check(test_board, marker[active_player]):\n",
    "            print('Player 1 won!')\n",
    "            break\n",
    "        elif win_check(test_board, marker[int(not(active_player))]):\n",
    "            print('Player 2 won!')\n",
    "            break\n",
    "        elif full_board_check(test_board):\n",
    "            print('Its a draw - No winner!')\n",
    "            break\n",
    "        else:\n",
    "            position = player_choice(test_board)\n",
    "            place_marker(test_board, marker[current_player], position)\n",
    "            display_board(test_board)\n",
    "            current_player= int(not(current_player))\n",
    "            continue\n",
    "    if not replay():\n",
    "        print(\"Bye Bye!\")\n",
    "        break\n",
    "    else:\n",
    "        continue"
   ]
  },
  {
   "cell_type": "markdown",
   "metadata": {
    "collapsed": true
   },
   "source": [
    "## Good Job!"
   ]
  }
 ],
 "metadata": {
  "kernelspec": {
   "display_name": "Python 3",
   "language": "python",
   "name": "python3"
  },
  "language_info": {
   "codemirror_mode": {
    "name": "ipython",
    "version": 3
   },
   "file_extension": ".py",
   "mimetype": "text/x-python",
   "name": "python",
   "nbconvert_exporter": "python",
   "pygments_lexer": "ipython3",
   "version": "3.6.4"
  }
 },
 "nbformat": 4,
 "nbformat_minor": 1
}
